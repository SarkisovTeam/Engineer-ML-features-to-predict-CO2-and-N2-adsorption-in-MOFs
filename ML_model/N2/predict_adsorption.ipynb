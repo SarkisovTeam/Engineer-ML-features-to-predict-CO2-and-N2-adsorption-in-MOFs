{
 "cells": [
  {
   "cell_type": "code",
   "execution_count": 1,
   "id": "c0fd016f",
   "metadata": {},
   "outputs": [],
   "source": [
    "import pandas as pd\n",
    "import numpy as np\n",
    "import sklearn\n",
    "from xgboost import XGBRegressor\n",
    "import pickle\n",
    "import joblib\n",
    "from sklearn.preprocessing import StandardScaler, FunctionTransformer\n",
    "import copy"
   ]
  },
  {
   "cell_type": "markdown",
   "id": "f2c78871",
   "metadata": {},
   "source": [
    "Test"
   ]
  },
  {
   "cell_type": "code",
   "execution_count": 2,
   "id": "1ef30798",
   "metadata": {},
   "outputs": [],
   "source": [
    "target_names=[\"0.001bar\",\"0.002bar\",\"0.005bar\",\"0.01bar\",\"0.02bar\",\"0.05bar\",\"0.1bar\",\"0.2bar\",\"0.5bar\",\"1bar\"]\n",
    "model_name=\"3\"\n",
    "x_test=pd.read_csv(\"x_test.csv\").to_numpy()[:,1:]\n",
    "test_name=pd.read_csv(\"x_test.csv\").to_numpy()[:,0]\n"
   ]
  },
  {
   "cell_type": "code",
   "execution_count": 3,
   "id": "b66000c2",
   "metadata": {},
   "outputs": [],
   "source": [
    "transfer= joblib.load('scaler_3.pkl')\n",
    "x_test_scaled = transfer.transform(x_test)"
   ]
  },
  {
   "cell_type": "code",
   "execution_count": 4,
   "id": "3ec242d6",
   "metadata": {},
   "outputs": [],
   "source": [
    "model= joblib.load(\"model_\"+model_name+'.pkl')\n",
    "y_predict=model.predict(x_test_scaled)\n"
   ]
  },
  {
   "cell_type": "code",
   "execution_count": 5,
   "id": "27f6cb4b",
   "metadata": {},
   "outputs": [],
   "source": [
    "np.savetxt(\"y_predict.txt\",y_predict,fmt=\"%s\")"
   ]
  },
  {
   "cell_type": "code",
   "execution_count": null,
   "id": "adc57413",
   "metadata": {},
   "outputs": [],
   "source": []
  }
 ],
 "metadata": {
  "kernelspec": {
   "display_name": "tf",
   "language": "python",
   "name": "tf"
  },
  "language_info": {
   "codemirror_mode": {
    "name": "ipython",
    "version": 3
   },
   "file_extension": ".py",
   "mimetype": "text/x-python",
   "name": "python",
   "nbconvert_exporter": "python",
   "pygments_lexer": "ipython3",
   "version": "3.9.16"
  }
 },
 "nbformat": 4,
 "nbformat_minor": 5
}
