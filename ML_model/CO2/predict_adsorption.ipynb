{
 "cells": [
  {
   "cell_type": "code",
   "execution_count": 6,
   "id": "c0fd016f",
   "metadata": {},
   "outputs": [],
   "source": [
    "import pandas as pd\n",
    "import numpy as np\n",
    "import sklearn\n",
    "from xgboost import XGBRegressor\n",
    "import pickle\n",
    "import joblib\n",
    "from sklearn.preprocessing import StandardScaler, FunctionTransformer\n",
    "import copy\n"
   ]
  },
  {
   "cell_type": "markdown",
   "id": "f2c78871",
   "metadata": {},
   "source": [
    "Test"
   ]
  },
  {
   "cell_type": "code",
   "execution_count": 7,
   "id": "1ef30798",
   "metadata": {},
   "outputs": [],
   "source": [
    "pressure=np.log10([0.001,0.002,0.005,0.01,0.02,0.05,0.1,0.2,0.5,1.0])\n",
    "target_names=[\"0.001bar\",\"0.002bar\",\"0.005bar\",\"0.01bar\",\"0.02bar\",\"0.05bar\",\"0.1bar\",\"0.2bar\",\"0.5bar\",\"1bar\"]\n",
    "model_name=\"3\"\n",
    "x_test=pd.read_csv(\"x_test.csv\").to_numpy()[:,1:]\n",
    "test_name=pd.read_csv(\"x_test.csv\").to_numpy()[:,0]\n",
    "#for i in range(1,3):\n",
    "for i in range(1,11):\n",
    "    x_test_p=np.vstack(([pressure[i-1]]*len(x_test),x_test.T)).T\n",
    "    if i==1:\n",
    "        x_test_list=x_test_p\n",
    "    else:\n",
    "        x_test_list=np.vstack((x_test_list,x_test_p))"
   ]
  },
  {
   "cell_type": "code",
   "execution_count": 8,
   "id": "b66000c2",
   "metadata": {},
   "outputs": [],
   "source": [
    "transfer= joblib.load('scaler_3.pkl')\n",
    "x_test_scaled = transfer.transform(x_test_list)"
   ]
  },
  {
   "cell_type": "code",
   "execution_count": 9,
   "id": "3ec242d6",
   "metadata": {},
   "outputs": [],
   "source": [
    "model= joblib.load(\"model_\"+model_name+'.pkl')\n",
    "y_predict=model.predict(x_test_scaled)"
   ]
  },
  {
   "cell_type": "code",
   "execution_count": 10,
   "id": "27f6cb4b",
   "metadata": {},
   "outputs": [],
   "source": [
    "np.savetxt(\"y_predict.txt\",y_predict.reshape(10,len(test_name)).T,fmt=\"%s\")"
   ]
  },
  {
   "cell_type": "code",
   "execution_count": null,
   "id": "e5b32120",
   "metadata": {},
   "outputs": [],
   "source": []
  }
 ],
 "metadata": {
  "kernelspec": {
   "display_name": "tf",
   "language": "python",
   "name": "tf"
  },
  "language_info": {
   "codemirror_mode": {
    "name": "ipython",
    "version": 3
   },
   "file_extension": ".py",
   "mimetype": "text/x-python",
   "name": "python",
   "nbconvert_exporter": "python",
   "pygments_lexer": "ipython3",
   "version": "3.9.16"
  }
 },
 "nbformat": 4,
 "nbformat_minor": 5
}
